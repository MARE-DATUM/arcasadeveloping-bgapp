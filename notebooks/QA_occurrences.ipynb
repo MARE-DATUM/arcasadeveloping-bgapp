{
  "cells": [
    {
      "cell_type": "markdown",
      "metadata": {},
      "source": [
        "# QA — Occurrences (pygeoapi)\n",
        "\n",
        "Notebook de verificação rápida das coleções OGC API e amostra de `occurrences` servidas pelo pygeoapi local.\n"
      ]
    },
    {
      "cell_type": "code",
      "execution_count": null,
      "metadata": {},
      "outputs": [],
      "source": [
        "import requests\n",
        "import pandas as pd\n",
        "from IPython.display import display\n",
        "\n",
        "API = \"http://localhost:5080\"\n",
        "\n",
        "r = requests.get(f\"{API}/collections?f=json\")\n",
        "r.raise_for_status()\n",
        "cols = [c[\"id\"] for c in r.json().get(\"collections\", [])]\n",
        "print(\"Collections:\", cols)\n",
        "\n",
        "items = requests.get(f\"{API}/collections/occurrences/items?limit=10&f=json\").json()\n",
        "features = items.get(\"features\", [])\n",
        "rows = [\n",
        "    {\n",
        "        \"scientificName\": f.get(\"properties\", {}).get(\"scientificName\"),\n",
        "        \"eventDate\": f.get(\"properties\", {}).get(\"eventDate\"),\n",
        "        \"lon\": f.get(\"geometry\", {}).get(\"coordinates\", [None, None])[0],\n",
        "        \"lat\": f.get(\"geometry\", {}).get(\"coordinates\", [None, None])[1],\n",
        "    }\n",
        "    for f in features\n",
        "]\n",
        "df = pd.DataFrame(rows)\n",
        "display(df.head())\n"
      ]
    }
  ],
  "metadata": {
    "language_info": {
      "name": "python"
    }
  },
  "nbformat": 4,
  "nbformat_minor": 2
}
